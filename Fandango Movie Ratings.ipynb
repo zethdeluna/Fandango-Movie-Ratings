{
 "cells": [
  {
   "cell_type": "markdown",
   "metadata": {},
   "source": [
    "# Fandango Movie Ratings\n",
    "_Author: Zeth De Luna &mdash; August 26, 2020_\n",
    "\n",
    "In this project, we'll be analyzing data collected on movies released in 2016 and 2017 and critique [Fandango](https://www.fandango.com/)'s former practice of rating movies on a 5 star scale. (Now, the ratings seen on Fandango are the \"Tomatometer\" and \"Audience Score\" produced by [Rotten Tomatoes](https://www.rottentomatoes.com/)).\n",
    "\n",
    "In October 2015, a data journalist named Walt Hickey wrote [an article](https://fivethirtyeight.com/features/fandango-movies-ratings/) analyzing movie ratings data and found strong evidence to suggest that Fandango's rating system was biased and dishonest. Fandango is a popular website that aggregates movie ratings. Fandango used to display a 5-star rating system on their website, where the minimum ratings is 0 stars and the maximum rating is 5 stars.\n",
    "\n",
    "Hickey found that there's a significant discrepancy between the number of stars displayed to users and the actual rating, which he was able to find in the HTML of the page. Here's what he found:\n",
    "* The actual rating was almost always rounded up to the nearest half star. For instance, a 4.1 movie would be rounded off to 4.5 stars, not to 4 stars.\n",
    "* In the case of 8% of the ratings analyzed, the rounding up was done to the nearest whole star. For instance, a 4.5 rating would be rounded off to 5 stars.\n",
    "* For one movie rating, the rounding off was completely off. The movie had a real rating of 4, but the website displayed a rating of 5 stars.\n",
    "\n",
    "Fandango's officials replied that the biased rounding off was caused by a bug in their system rather than being intentional, and they promised to fix the bug as soon as possible. \n",
    "\n",
    "In this project, we'll analyze more recent movie ratings data to determine whether there has been any change in Fandango's rating system after Hickey's analysis.\n",
    "\n",
    "## Understanding the Data\n",
    "\n",
    "One of the best ways to figure out whether there has been any change in Fandango's rating system after Hickey's analysis is to compare the system's characteristics before and after the analysis. Walt Hickey made the data he collected publicly available on [his GitHub](https://github.com/fivethirtyeight/data/tree/master/fandango) (data for 2015). One of [Dataquest's](https://www.dataquest.io/?utm_source=google&utm_medium=cpc&matchtype=e&device=c&utm_campaign=brand&campaignid=2083591861&adgroupid=75850930719&adid=376612070057&gclid=CjwKCAjwr7X4BRA4EiwAUXjbtys1C-98RVGcOp9r4tA-zbn15M5RZqfQk5GlpcoCv_nBZ4wSoKHcGRoCxQYQAvD_BwE) team members collected movie ratings data for movies released in 2016 and 2017, available [here](https://github.com/mircealex/Movie_ratings_2016_17). We'll use these datasets to analyze the rating system's characteristics _after_ Hickey's analysis."
   ]
  },
  {
   "cell_type": "code",
   "execution_count": 1,
   "metadata": {},
   "outputs": [
    {
     "name": "stderr",
     "output_type": "stream",
     "text": [
      "/Library/Frameworks/Python.framework/Versions/3.7/lib/python3.7/site-packages/statsmodels/tools/_testing.py:19: FutureWarning: pandas.util.testing is deprecated. Use the functions in the public API at pandas.testing instead.\n",
      "  import pandas.util.testing as tm\n"
     ]
    }
   ],
   "source": [
    "import pandas as pd\n",
    "import numpy as np\n",
    "import matplotlib.pyplot as plt\n",
    "import seaborn as sns\n",
    "%matplotlib inline"
   ]
  },
  {
   "cell_type": "code",
   "execution_count": 2,
   "metadata": {},
   "outputs": [],
   "source": [
    "scores_15 = pd.read_csv('fandango_score_comparison.csv')\n",
    "scores_1617 = pd.read_csv('movie_ratings_16_17.csv')"
   ]
  },
  {
   "cell_type": "markdown",
   "metadata": {},
   "source": [
    "To make data on Fandango's ratings easily accessible, we'll isolate the columns relevant to Fandango ni separate variables."
   ]
  },
  {
   "cell_type": "code",
   "execution_count": 3,
   "metadata": {},
   "outputs": [],
   "source": [
    "fand_2015_columns = ['FILM',\n",
    "                    'Fandango_Stars',\n",
    "                    'Fandango_Ratingvalue',\n",
    "                    'Fandango_votes',\n",
    "                    'Fandango_Difference']\n",
    "fandango_1415 = scores_15.loc[:, fand_2015_columns].copy()\n",
    "\n",
    "fand_1617_columns = ['movie', 'year', 'fandango']\n",
    "fandango_1617 = scores_1617.loc[:, fand_1617_columns].copy()"
   ]
  },
  {
   "cell_type": "code",
   "execution_count": 4,
   "metadata": {},
   "outputs": [
    {
     "data": {
      "text/html": [
       "<div>\n",
       "<style scoped>\n",
       "    .dataframe tbody tr th:only-of-type {\n",
       "        vertical-align: middle;\n",
       "    }\n",
       "\n",
       "    .dataframe tbody tr th {\n",
       "        vertical-align: top;\n",
       "    }\n",
       "\n",
       "    .dataframe thead th {\n",
       "        text-align: right;\n",
       "    }\n",
       "</style>\n",
       "<table border=\"1\" class=\"dataframe\">\n",
       "  <thead>\n",
       "    <tr style=\"text-align: right;\">\n",
       "      <th></th>\n",
       "      <th>FILM</th>\n",
       "      <th>Fandango_Stars</th>\n",
       "      <th>Fandango_Ratingvalue</th>\n",
       "      <th>Fandango_votes</th>\n",
       "      <th>Fandango_Difference</th>\n",
       "    </tr>\n",
       "  </thead>\n",
       "  <tbody>\n",
       "    <tr>\n",
       "      <th>0</th>\n",
       "      <td>Avengers: Age of Ultron (2015)</td>\n",
       "      <td>5.0</td>\n",
       "      <td>4.5</td>\n",
       "      <td>14846</td>\n",
       "      <td>0.5</td>\n",
       "    </tr>\n",
       "    <tr>\n",
       "      <th>1</th>\n",
       "      <td>Cinderella (2015)</td>\n",
       "      <td>5.0</td>\n",
       "      <td>4.5</td>\n",
       "      <td>12640</td>\n",
       "      <td>0.5</td>\n",
       "    </tr>\n",
       "    <tr>\n",
       "      <th>2</th>\n",
       "      <td>Ant-Man (2015)</td>\n",
       "      <td>5.0</td>\n",
       "      <td>4.5</td>\n",
       "      <td>12055</td>\n",
       "      <td>0.5</td>\n",
       "    </tr>\n",
       "    <tr>\n",
       "      <th>3</th>\n",
       "      <td>Do You Believe? (2015)</td>\n",
       "      <td>5.0</td>\n",
       "      <td>4.5</td>\n",
       "      <td>1793</td>\n",
       "      <td>0.5</td>\n",
       "    </tr>\n",
       "    <tr>\n",
       "      <th>4</th>\n",
       "      <td>Hot Tub Time Machine 2 (2015)</td>\n",
       "      <td>3.5</td>\n",
       "      <td>3.0</td>\n",
       "      <td>1021</td>\n",
       "      <td>0.5</td>\n",
       "    </tr>\n",
       "  </tbody>\n",
       "</table>\n",
       "</div>"
      ],
      "text/plain": [
       "                             FILM  Fandango_Stars  Fandango_Ratingvalue  \\\n",
       "0  Avengers: Age of Ultron (2015)             5.0                   4.5   \n",
       "1               Cinderella (2015)             5.0                   4.5   \n",
       "2                  Ant-Man (2015)             5.0                   4.5   \n",
       "3          Do You Believe? (2015)             5.0                   4.5   \n",
       "4   Hot Tub Time Machine 2 (2015)             3.5                   3.0   \n",
       "\n",
       "   Fandango_votes  Fandango_Difference  \n",
       "0           14846                  0.5  \n",
       "1           12640                  0.5  \n",
       "2           12055                  0.5  \n",
       "3            1793                  0.5  \n",
       "4            1021                  0.5  "
      ]
     },
     "execution_count": 4,
     "metadata": {},
     "output_type": "execute_result"
    }
   ],
   "source": [
    "fandango_1415.head()"
   ]
  },
  {
   "cell_type": "code",
   "execution_count": 5,
   "metadata": {},
   "outputs": [
    {
     "data": {
      "text/html": [
       "<div>\n",
       "<style scoped>\n",
       "    .dataframe tbody tr th:only-of-type {\n",
       "        vertical-align: middle;\n",
       "    }\n",
       "\n",
       "    .dataframe tbody tr th {\n",
       "        vertical-align: top;\n",
       "    }\n",
       "\n",
       "    .dataframe thead th {\n",
       "        text-align: right;\n",
       "    }\n",
       "</style>\n",
       "<table border=\"1\" class=\"dataframe\">\n",
       "  <thead>\n",
       "    <tr style=\"text-align: right;\">\n",
       "      <th></th>\n",
       "      <th>movie</th>\n",
       "      <th>year</th>\n",
       "      <th>fandango</th>\n",
       "    </tr>\n",
       "  </thead>\n",
       "  <tbody>\n",
       "    <tr>\n",
       "      <th>0</th>\n",
       "      <td>10 Cloverfield Lane</td>\n",
       "      <td>2016</td>\n",
       "      <td>3.5</td>\n",
       "    </tr>\n",
       "    <tr>\n",
       "      <th>1</th>\n",
       "      <td>13 Hours</td>\n",
       "      <td>2016</td>\n",
       "      <td>4.5</td>\n",
       "    </tr>\n",
       "    <tr>\n",
       "      <th>2</th>\n",
       "      <td>A Cure for Wellness</td>\n",
       "      <td>2016</td>\n",
       "      <td>3.0</td>\n",
       "    </tr>\n",
       "    <tr>\n",
       "      <th>3</th>\n",
       "      <td>A Dog's Purpose</td>\n",
       "      <td>2017</td>\n",
       "      <td>4.5</td>\n",
       "    </tr>\n",
       "    <tr>\n",
       "      <th>4</th>\n",
       "      <td>A Hologram for the King</td>\n",
       "      <td>2016</td>\n",
       "      <td>3.0</td>\n",
       "    </tr>\n",
       "  </tbody>\n",
       "</table>\n",
       "</div>"
      ],
      "text/plain": [
       "                     movie  year  fandango\n",
       "0      10 Cloverfield Lane  2016       3.5\n",
       "1                 13 Hours  2016       4.5\n",
       "2      A Cure for Wellness  2016       3.0\n",
       "3          A Dog's Purpose  2017       4.5\n",
       "4  A Hologram for the King  2016       3.0"
      ]
     },
     "execution_count": 5,
     "metadata": {},
     "output_type": "execute_result"
    }
   ],
   "source": [
    "fandango_1617.head()"
   ]
  },
  {
   "cell_type": "markdown",
   "metadata": {},
   "source": [
    "Recall that our goal is to determine whether there has been any change in Fandango's rating system after Hickey's analysis. The population of interest for our analysis consists of all the movie ratings on Fandango. \n",
    "\n",
    "Since we're interested in seeing if the parameters of the population have changed after Hickey's analysis, we're interested in samples of this population from before and after Hickey's analysis.\n",
    "\n",
    "The timeframes of the data we're working with fit what we want: Hickey's data was collected before the analysis and Dataquest's data was collected in the years after the analysis. However, we'll need to make sure that the samples are representative of the population (the movies), otherwise we would end our analysis with large sampling errors and wrong conclusions.\n",
    "\n",
    "From Hickey's article and the `README.md` on [Hickey's GitHub repository](https://github.com/fivethirtyeight/data/tree/master/fandango), he stated that he chose movies based on the following criteria:\n",
    "* The movie must have at least 30 fan reviews on Fandango\n",
    "* The movie must have been released in 2015\n",
    "\n",
    "The first criteria from above suggests that the sample is not random because not every movie had the same chance of being included in the sample (movies with under 30 ratings or not released in 2015 had no chance at all). Additionally, since the selected movies are limited to the year 2015, this sample will be subject to temporal trends. For example, the film industry might have had a bad year in 2015 in terms of critic/user reviews, relative to other years.\n",
    "\n",
    "Given this information, it seems unlikely that this sample&mdash;the data stored in `fandango_score_comparison.csv`&mdash;is representative of the entire population. \n",
    "\n",
    "From the `README.md` on [Dataquest's repository](https://github.com/mircealex/Movie_ratings_2016_17), the data collector chose movies based on these criteria:\n",
    "* The movie must have been released in 2016 and 2017\n",
    "* The movie must be considered one of the most popular movies, i.e. \"with a significant number of votes\" (no exact value was stated).\n",
    "\n",
    "Similar to the dataset from Hickey's analysis, this dataset is subject to temporal trends and is unlikely that this sample&mdash;the data stored in `movie_ratings_16_17.csv`&mdash;is representative of the entire population.\n",
    "\n",
    "## A New Approach\n",
    "At this point, we have at least two alternatives: either we collect new data, or we change the goal of our analysis by placing some limitations on it.\n",
    "\n",
    "The faster of the two options is to change our goal, so we'll do that (also, as we stated in the beginning, Fandango no longer uses the star rating system so it would be impossible to collect new data).\n",
    "\n",
    "To make use of the data currently available to us, we'll need to tweak the goal of our analysis so that:\n",
    "* The population of interest changes and the samples we currently work with become more representative\n",
    "* The new goal is still a fairly good proxy for our initial goal, which was to determine whether there has been any change in Fandango's rating system after Hickey's analysis\n",
    "\n",
    "Recall that our old goal was to determine whether Fandango's rating system before Hickey's analysis differs from their rating system after the analysis. One way to make our data useful is to narrow down on the movies' timeframe and popularity. We can change our population of interest from all movies to just the most popular movies in 2015 and 2016.\n",
    "\n",
    "Our new goal is to determine whether there's any difference between Fandango's ratings for the most popular movies in 2015 (before Hickey's analysis) and their ratings for the most popular movies in 2016 (after Hickey's analysis). With this new goal, we'll be able to utilize the data we have while still being able to answer our original question.\n",
    "\n",
    "## Isolating the Samples\n",
    "With the new goal, we now have two populations that we want to describe and compare with each other:\n",
    "1. Fandango's ratings for popular movies released in 2015\n",
    "2. Fandango's ratings for popular movies released in 2016\n",
    "\n",
    "\"Popular\" is a bit vague, so we'll follow Hickey's method and consider a movie to be popular only if it has at least 30 fan ratings of Fandango's website.\n",
    "\n",
    "Before we move on further, let's double check our data again to see if they're representative samples for popular movies. \n",
    "\n",
    "The documentation for the data on movies released in 2015 states that the data contains only movies with at least 30 fan ratings, but we'll do a simple check just to make sure."
   ]
  },
  {
   "cell_type": "code",
   "execution_count": 6,
   "metadata": {},
   "outputs": [
    {
     "name": "stdout",
     "output_type": "stream",
     "text": [
      "Movies with Less Than 30 Fan Reviews: 0\n"
     ]
    }
   ],
   "source": [
    "# count movies from 2015 that have less than 30 fan ratings\n",
    "count_less_30 = fandango_1415[fandango_1415['Fandango_votes'] < 30].shape[0]\n",
    "print('Movies with Less Than 30 Fan Reviews: {}'.format(count_less_30))"
   ]
  },
  {
   "cell_type": "markdown",
   "metadata": {},
   "source": [
    "One easy way to check the data on 2016 movies is to randomly sample 10 movies from the data and check online if they have at least 30 fan ratings. Since the ratings system on Fandango is now run by Rotten Tomatoes, we'll check the Rotten Tomatoes [website](https://www.rottentomatoes.com/) for the number of fan reviews."
   ]
  },
  {
   "cell_type": "code",
   "execution_count": 7,
   "metadata": {},
   "outputs": [
    {
     "data": {
      "text/html": [
       "<div>\n",
       "<style scoped>\n",
       "    .dataframe tbody tr th:only-of-type {\n",
       "        vertical-align: middle;\n",
       "    }\n",
       "\n",
       "    .dataframe tbody tr th {\n",
       "        vertical-align: top;\n",
       "    }\n",
       "\n",
       "    .dataframe thead th {\n",
       "        text-align: right;\n",
       "    }\n",
       "</style>\n",
       "<table border=\"1\" class=\"dataframe\">\n",
       "  <thead>\n",
       "    <tr style=\"text-align: right;\">\n",
       "      <th></th>\n",
       "      <th>movie</th>\n",
       "      <th>year</th>\n",
       "      <th>fandango</th>\n",
       "    </tr>\n",
       "  </thead>\n",
       "  <tbody>\n",
       "    <tr>\n",
       "      <th>0</th>\n",
       "      <td>10 Cloverfield Lane</td>\n",
       "      <td>2016</td>\n",
       "      <td>3.5</td>\n",
       "    </tr>\n",
       "    <tr>\n",
       "      <th>172</th>\n",
       "      <td>The Duel</td>\n",
       "      <td>2016</td>\n",
       "      <td>3.5</td>\n",
       "    </tr>\n",
       "    <tr>\n",
       "      <th>31</th>\n",
       "      <td>Captain America: Civil War</td>\n",
       "      <td>2016</td>\n",
       "      <td>4.5</td>\n",
       "    </tr>\n",
       "    <tr>\n",
       "      <th>12</th>\n",
       "      <td>Arrival</td>\n",
       "      <td>2016</td>\n",
       "      <td>4.0</td>\n",
       "    </tr>\n",
       "    <tr>\n",
       "      <th>16</th>\n",
       "      <td>Bad Santa 2</td>\n",
       "      <td>2016</td>\n",
       "      <td>3.5</td>\n",
       "    </tr>\n",
       "    <tr>\n",
       "      <th>197</th>\n",
       "      <td>The Take (Bastille Day)</td>\n",
       "      <td>2016</td>\n",
       "      <td>4.0</td>\n",
       "    </tr>\n",
       "    <tr>\n",
       "      <th>63</th>\n",
       "      <td>Gods of Egypt</td>\n",
       "      <td>2016</td>\n",
       "      <td>3.5</td>\n",
       "    </tr>\n",
       "    <tr>\n",
       "      <th>195</th>\n",
       "      <td>The Shallows</td>\n",
       "      <td>2016</td>\n",
       "      <td>4.0</td>\n",
       "    </tr>\n",
       "    <tr>\n",
       "      <th>140</th>\n",
       "      <td>Rogue One: A Star Wars Story</td>\n",
       "      <td>2016</td>\n",
       "      <td>4.5</td>\n",
       "    </tr>\n",
       "    <tr>\n",
       "      <th>95</th>\n",
       "      <td>Lights Out</td>\n",
       "      <td>2016</td>\n",
       "      <td>4.0</td>\n",
       "    </tr>\n",
       "  </tbody>\n",
       "</table>\n",
       "</div>"
      ],
      "text/plain": [
       "                            movie  year  fandango\n",
       "0             10 Cloverfield Lane  2016       3.5\n",
       "172                      The Duel  2016       3.5\n",
       "31     Captain America: Civil War  2016       4.5\n",
       "12                        Arrival  2016       4.0\n",
       "16                    Bad Santa 2  2016       3.5\n",
       "197       The Take (Bastille Day)  2016       4.0\n",
       "63                  Gods of Egypt  2016       3.5\n",
       "195                  The Shallows  2016       4.0\n",
       "140  Rogue One: A Star Wars Story  2016       4.5\n",
       "95                     Lights Out  2016       4.0"
      ]
     },
     "execution_count": 7,
     "metadata": {},
     "output_type": "execute_result"
    }
   ],
   "source": [
    "# isolate movies from 2016\n",
    "fandango_16 = fandango_1617[fandango_1617['year'] == 2016].copy()\n",
    "\n",
    "# select random sample from fandango_16\n",
    "fandango_16.sample(10, random_state=24)"
   ]
  },
  {
   "cell_type": "markdown",
   "metadata": {},
   "source": [
    "As of August, 2020, these are the amounts of fan ratings for the randomly selected movies:\n",
    "\n",
    "|             Movie             | Fan Ratings |\n",
    "|-------------------------------|-------------|\n",
    "| 10 Cloverfield Lane           | 60868       |\n",
    "| The Duel                      | 1146        |\n",
    "| Captain America: Civil War    | 180062      |\n",
    "| Arrival                       | 83227       |\n",
    "| Bad Santa 2                   | 10354       |\n",
    "| The Take (Bastille Day)       | 3809        |\n",
    "| Gods of Egypt                 | 31806       |\n",
    "| The Shallows                  | 32444       |\n",
    "| Rogue One: A Star Wars Story  | 104581      |\n",
    "| Lights Out                    | 27459       |\n",
    "\n",
    "For good measure, let's do another random sample."
   ]
  },
  {
   "cell_type": "code",
   "execution_count": 8,
   "metadata": {},
   "outputs": [
    {
     "data": {
      "text/html": [
       "<div>\n",
       "<style scoped>\n",
       "    .dataframe tbody tr th:only-of-type {\n",
       "        vertical-align: middle;\n",
       "    }\n",
       "\n",
       "    .dataframe tbody tr th {\n",
       "        vertical-align: top;\n",
       "    }\n",
       "\n",
       "    .dataframe thead th {\n",
       "        text-align: right;\n",
       "    }\n",
       "</style>\n",
       "<table border=\"1\" class=\"dataframe\">\n",
       "  <thead>\n",
       "    <tr style=\"text-align: right;\">\n",
       "      <th></th>\n",
       "      <th>movie</th>\n",
       "      <th>year</th>\n",
       "      <th>fandango</th>\n",
       "    </tr>\n",
       "  </thead>\n",
       "  <tbody>\n",
       "    <tr>\n",
       "      <th>28</th>\n",
       "      <td>Busanhaeng</td>\n",
       "      <td>2016</td>\n",
       "      <td>4.5</td>\n",
       "    </tr>\n",
       "    <tr>\n",
       "      <th>135</th>\n",
       "      <td>Race</td>\n",
       "      <td>2016</td>\n",
       "      <td>4.5</td>\n",
       "    </tr>\n",
       "    <tr>\n",
       "      <th>40</th>\n",
       "      <td>Deadpool</td>\n",
       "      <td>2016</td>\n",
       "      <td>4.5</td>\n",
       "    </tr>\n",
       "    <tr>\n",
       "      <th>11</th>\n",
       "      <td>Approaching the Unknown</td>\n",
       "      <td>2016</td>\n",
       "      <td>3.5</td>\n",
       "    </tr>\n",
       "    <tr>\n",
       "      <th>55</th>\n",
       "      <td>Finding Dory</td>\n",
       "      <td>2016</td>\n",
       "      <td>4.5</td>\n",
       "    </tr>\n",
       "    <tr>\n",
       "      <th>2</th>\n",
       "      <td>A Cure for Wellness</td>\n",
       "      <td>2016</td>\n",
       "      <td>3.0</td>\n",
       "    </tr>\n",
       "    <tr>\n",
       "      <th>143</th>\n",
       "      <td>Sing</td>\n",
       "      <td>2016</td>\n",
       "      <td>4.5</td>\n",
       "    </tr>\n",
       "    <tr>\n",
       "      <th>34</th>\n",
       "      <td>Central Intelligence</td>\n",
       "      <td>2016</td>\n",
       "      <td>4.5</td>\n",
       "    </tr>\n",
       "    <tr>\n",
       "      <th>101</th>\n",
       "      <td>Loving</td>\n",
       "      <td>2016</td>\n",
       "      <td>4.0</td>\n",
       "    </tr>\n",
       "    <tr>\n",
       "      <th>176</th>\n",
       "      <td>The Founder</td>\n",
       "      <td>2016</td>\n",
       "      <td>4.0</td>\n",
       "    </tr>\n",
       "  </tbody>\n",
       "</table>\n",
       "</div>"
      ],
      "text/plain": [
       "                       movie  year  fandango\n",
       "28                Busanhaeng  2016       4.5\n",
       "135                     Race  2016       4.5\n",
       "40                  Deadpool  2016       4.5\n",
       "11   Approaching the Unknown  2016       3.5\n",
       "55              Finding Dory  2016       4.5\n",
       "2        A Cure for Wellness  2016       3.0\n",
       "143                     Sing  2016       4.5\n",
       "34      Central Intelligence  2016       4.5\n",
       "101                   Loving  2016       4.0\n",
       "176              The Founder  2016       4.0"
      ]
     },
     "execution_count": 8,
     "metadata": {},
     "output_type": "execute_result"
    }
   ],
   "source": [
    "fandango_16.sample(10, random_state=2)"
   ]
  },
  {
   "cell_type": "markdown",
   "metadata": {},
   "source": [
    "Here are the amount of ratings for these movies, as of August, 2020:\n",
    "\n",
    "|           Movies            | Fan Ratings |\n",
    "|-----------------------------|-------------|\n",
    "| Busanhaeng (Train to Busan) | 12595       | \n",
    "| Race                        | 14977       |\n",
    "| Deadpool                    | 187422      |\n",
    "| Approaching the Unknown     | 1539        |\n",
    "| Finding Dory                | 181940      |\n",
    "| A Cure for Wellness         | 11536       |\n",
    "| Sing                        | 39465       |\n",
    "| Central Intelligence        | 54341       |\n",
    "| Loving                      | 19675       |\n",
    "| The Founder                 | 32351       |\n",
    "\n",
    "100% of the movies in our samples are popular by our standards. So, we can move on with our analysis with a bit more confidence.\n",
    "\n",
    "We already isolated the movies in Dataquest's sample to movies released in 2016. Let's do the same for Hickey's sample, but for movies released in 2015.\n",
    "\n",
    "You may have noticed that `fandango_1415` doesn't have a year column and that the year that the movie was released is stored after each movie title in the `FILM` column. Before we isolate the movies from 2015, it would be easier to create a new column in this dataframe, called `Year`, that contains the release year of each corresponding movie."
   ]
  },
  {
   "cell_type": "code",
   "execution_count": 9,
   "metadata": {},
   "outputs": [],
   "source": [
    "# extract years from FILM column and create 'Year' column\n",
    "fandango_1415['Year'] = (fandango_1415['FILM']\n",
    "                             .apply(lambda title: title[-5:-1])\n",
    "                        )"
   ]
  },
  {
   "cell_type": "code",
   "execution_count": 10,
   "metadata": {},
   "outputs": [
    {
     "data": {
      "text/plain": [
       "2015    129\n",
       "2014     17\n",
       "Name: Year, dtype: int64"
      ]
     },
     "execution_count": 10,
     "metadata": {},
     "output_type": "execute_result"
    }
   ],
   "source": [
    "fandango_1415['Year'].value_counts()"
   ]
  },
  {
   "cell_type": "markdown",
   "metadata": {},
   "source": [
    "We can see that there are 17 movies in the dataset that were released in 2014. We just want those released in 2015, so we'll isolate those movies and create a new dataframe."
   ]
  },
  {
   "cell_type": "code",
   "execution_count": 11,
   "metadata": {},
   "outputs": [],
   "source": [
    "# create new dataframe with just 2015 movies\n",
    "fandango_15 = fandango_1415[fandango_1415['Year'] == '2015'].copy()"
   ]
  },
  {
   "cell_type": "code",
   "execution_count": 12,
   "metadata": {},
   "outputs": [
    {
     "data": {
      "text/plain": [
       "2015    129\n",
       "Name: Year, dtype: int64"
      ]
     },
     "execution_count": 12,
     "metadata": {},
     "output_type": "execute_result"
    }
   ],
   "source": [
    "fandango_15['Year'].value_counts()"
   ]
  },
  {
   "cell_type": "markdown",
   "metadata": {},
   "source": [
    "We have arrived at two dataframes for movies released in 2015 and 2016:\n",
    "* 2015 Movies: `fandango_15`\n",
    "* 2016 Movies: `fandango_16`\n",
    "\n",
    "Now that we have two datasets that we can work with, we can start our analysis. One more time: our goal is to determine whether there are any differences between Fandango's ratings for popular movies released in 2015 and in 2016.\n",
    "\n",
    "## Comparing Distributions of Movie Ratings\n",
    "\n",
    "Let's begin our analysis by making a high-level comparison between the shapes of the distributions of movie ratings for both samples."
   ]
  },
  {
   "cell_type": "code",
   "execution_count": 13,
   "metadata": {},
   "outputs": [
    {
     "data": {
      "text/html": [
       "<div>\n",
       "<style scoped>\n",
       "    .dataframe tbody tr th:only-of-type {\n",
       "        vertical-align: middle;\n",
       "    }\n",
       "\n",
       "    .dataframe tbody tr th {\n",
       "        vertical-align: top;\n",
       "    }\n",
       "\n",
       "    .dataframe thead th {\n",
       "        text-align: right;\n",
       "    }\n",
       "</style>\n",
       "<table border=\"1\" class=\"dataframe\">\n",
       "  <thead>\n",
       "    <tr style=\"text-align: right;\">\n",
       "      <th></th>\n",
       "      <th>FILM</th>\n",
       "      <th>Fandango_Stars</th>\n",
       "      <th>Fandango_Ratingvalue</th>\n",
       "      <th>Fandango_votes</th>\n",
       "      <th>Fandango_Difference</th>\n",
       "      <th>Year</th>\n",
       "    </tr>\n",
       "  </thead>\n",
       "  <tbody>\n",
       "    <tr>\n",
       "      <th>0</th>\n",
       "      <td>Avengers: Age of Ultron (2015)</td>\n",
       "      <td>5.0</td>\n",
       "      <td>4.5</td>\n",
       "      <td>14846</td>\n",
       "      <td>0.5</td>\n",
       "      <td>2015</td>\n",
       "    </tr>\n",
       "  </tbody>\n",
       "</table>\n",
       "</div>"
      ],
      "text/plain": [
       "                             FILM  Fandango_Stars  Fandango_Ratingvalue  \\\n",
       "0  Avengers: Age of Ultron (2015)             5.0                   4.5   \n",
       "\n",
       "   Fandango_votes  Fandango_Difference  Year  \n",
       "0           14846                  0.5  2015  "
      ]
     },
     "execution_count": 13,
     "metadata": {},
     "output_type": "execute_result"
    }
   ],
   "source": [
    "fandango_15.head(1)"
   ]
  },
  {
   "cell_type": "code",
   "execution_count": 14,
   "metadata": {},
   "outputs": [
    {
     "data": {
      "text/html": [
       "<div>\n",
       "<style scoped>\n",
       "    .dataframe tbody tr th:only-of-type {\n",
       "        vertical-align: middle;\n",
       "    }\n",
       "\n",
       "    .dataframe tbody tr th {\n",
       "        vertical-align: top;\n",
       "    }\n",
       "\n",
       "    .dataframe thead th {\n",
       "        text-align: right;\n",
       "    }\n",
       "</style>\n",
       "<table border=\"1\" class=\"dataframe\">\n",
       "  <thead>\n",
       "    <tr style=\"text-align: right;\">\n",
       "      <th></th>\n",
       "      <th>movie</th>\n",
       "      <th>year</th>\n",
       "      <th>fandango</th>\n",
       "    </tr>\n",
       "  </thead>\n",
       "  <tbody>\n",
       "    <tr>\n",
       "      <th>0</th>\n",
       "      <td>10 Cloverfield Lane</td>\n",
       "      <td>2016</td>\n",
       "      <td>3.5</td>\n",
       "    </tr>\n",
       "  </tbody>\n",
       "</table>\n",
       "</div>"
      ],
      "text/plain": [
       "                 movie  year  fandango\n",
       "0  10 Cloverfield Lane  2016       3.5"
      ]
     },
     "execution_count": 14,
     "metadata": {},
     "output_type": "execute_result"
    }
   ],
   "source": [
    "fandango_16.head(1)"
   ]
  },
  {
   "cell_type": "code",
   "execution_count": 15,
   "metadata": {},
   "outputs": [
    {
     "data": {
      "image/png": "[encoded data removed]",
      "text/plain": [
       "<Figure size 1152x576 with 1 Axes>"
      ]
     },
     "metadata": {},
     "output_type": "display_data"
    }
   ],
   "source": [
    "# generate kernel density plots for the fandango ratings in\n",
    "# the two datasets\n",
    "plt.style.use('fivethirtyeight')\n",
    "\n",
    "(fandango_15['Fandango_Stars']\n",
    "     .plot.kde(label='2015', legend=True, figsize=(16,8)))\n",
    "\n",
    "(fandango_16['fandango']\n",
    "    .plot.kde(label='2016', legend=True))\n",
    "\n",
    "plt.title('Comparing Movie Ratings Distributions\\n(2015 vs 2016)',\n",
    "          fontsize=24)\n",
    "plt.xlabel('Stars')\n",
    "plt.xlim(0, 5)\n",
    "plt.xticks(np.arange(0, 5.1, 0.5))\n",
    "plt.show()"
   ]
  },
  {
   "cell_type": "markdown",
   "metadata": {},
   "source": [
    "Instantly, we can see that both datasets are left skewed. However, the data from 2016 is shifted slightly to the left compared to the data from 2015.\n",
    "\n",
    "The left skew of the distributions suggests that movies on Fandango tend to be given high ratings. Given that Fandango also sells tickets, one could argue that Fandango bumps up the ratings of movies so that they could sell more tickets. We could collect more data to dig deeper into that hypothesis, but for the scope of this project we'll leave it at that.\n",
    "\n",
    "A positive sign is that the distribution for the movie ratings in the following year, 2016, are shifted slightly to the left. This shows that the overall ratings for movies in 2016 were lower and could indicate that Fandango implemented changes in their movie rating system.\n",
    "\n",
    "By comparing the ratings distributions we learned that movies in 2016 were rated slightly lower than movies in 2015.\n",
    "\n",
    "## Comparing Frequency of Movie Ratings\n",
    "While comparing the distributions with the help of the kernel density plots was a great start, we need to analyze more granular information. \n",
    "\n",
    "Let's examine the frequency of each rating (i.e. 5.0, 4.5, 4.0, etc.) for both years. Since the two datasets don't have the same amount of movies, it would be best to show the frequencies in terms of percentages."
   ]
  },
  {
   "cell_type": "code",
   "execution_count": 16,
   "metadata": {},
   "outputs": [
    {
     "name": "stdout",
     "output_type": "stream",
     "text": [
      "2015 Movie Ratings\n",
      "------------------------\n",
      "3.0     8.527132\n",
      "3.5    17.829457\n",
      "4.0    28.682171\n",
      "4.5    37.984496\n",
      "5.0     6.976744\n",
      "Name: Fandango_Stars, dtype: float64\n",
      "------------------------------------------------\n",
      "\n",
      "2016 Movie Ratings\n",
      "------------------------\n",
      "2.5     3.141361\n",
      "3.0     7.329843\n",
      "3.5    24.083770\n",
      "4.0    40.314136\n",
      "4.5    24.607330\n",
      "5.0     0.523560\n",
      "Name: fandango, dtype: float64\n"
     ]
    }
   ],
   "source": [
    "print('2015 Movie Ratings\\n' + '-'*24)\n",
    "print((fandango_15['Fandango_Stars']\n",
    "           .value_counts(normalize=True)\n",
    "           .sort_index()\n",
    "      ) * 100)\n",
    "\n",
    "print('-'*48 + '\\n')\n",
    "\n",
    "print('2016 Movie Ratings\\n' + '-'*24)\n",
    "print((fandango_16['fandango']\n",
    "           .value_counts(normalize=True)\n",
    "           .sort_index()\n",
    "      ) * 100)"
   ]
  },
  {
   "cell_type": "code",
   "execution_count": 17,
   "metadata": {},
   "outputs": [
    {
     "name": "stdout",
     "output_type": "stream",
     "text": [
      "Change in Frequency for 4.5 Ratings: -13.377155999999996\n",
      "Change in Frequency for 5.0 Ratings: -6.453184\n"
     ]
    }
   ],
   "source": [
    "# percent change in 4.5 rating frequency from 2015 to 2016\n",
    "pct_change1 = 24.607330 - 37.984486\n",
    "\n",
    "# percent change in 5.0 rating frequency from 2015 to 2016\n",
    "pct_change2 = 0.523560 - 6.976744\n",
    "\n",
    "print('Change in Frequency for 4.5 Ratings: {}'.format(pct_change1))\n",
    "print('Change in Frequency for 5.0 Ratings: {}'.format(pct_change2))"
   ]
  },
  {
   "cell_type": "markdown",
   "metadata": {},
   "source": [
    "We can see that in 2016, the frequency of high ratings is significantly lower than in 2015. The frequency of 4.5 ratings decreased by about 13% and the frequency of 5.0 ratings decreased by about 6.5%, leaving only less than 1% of movies being given 5.0 stars.\n",
    "\n",
    "The lowest rating is also lower in 2016, with about 3% of movies receiving a rating of 2.5, while the lowest rating for a movie in 2015 was 3.0. \n",
    "\n",
    "By observing the differences between the two frequency table, we can confirm that there is indeed a clear difference between the two distributions.\n",
    "\n",
    "While the frequency of the highest ratings decreased, there was an increase in the number of 4.0 and 3.5 ratings, making the direction of change less clear.\n",
    "\n",
    "We'll need to take a few summary statistics to get a more precise picture about the direction of change.\n",
    "\n",
    "## Determining the Direction of Change\n",
    "To determine the direction of change between the two datasets, we'll take each distribution of movie ratings and compute its mean, median, and mode, and then compare these statistics to determine what they tell about the direction of the difference."
   ]
  },
  {
   "cell_type": "code",
   "execution_count": 18,
   "metadata": {},
   "outputs": [],
   "source": [
    "# calculate mean, median, and mode for both datasets\n",
    "ratings_15_mean = fandango_15['Fandango_Stars'].mean()\n",
    "ratings_15_median = fandango_15['Fandango_Stars'].median()\n",
    "ratings_15_mode = fandango_15['Fandango_Stars'].mode()[0]\n",
    "\n",
    "ratings_16_mean = fandango_16['fandango'].mean()\n",
    "ratings_16_median = fandango_16['fandango'].median()\n",
    "ratings_16_mode = fandango_16['fandango'].mode()[0]\n",
    "\n",
    "# create new dataframe containing the values above\n",
    "stats = pd.DataFrame()\n",
    "stats['2015'] = [ratings_15_mean, ratings_15_median, ratings_15_mode]\n",
    "stats['2016'] = [ratings_16_mean, ratings_16_median, ratings_16_mode]\n",
    "stats.index = ['mean', 'median', 'mode']"
   ]
  },
  {
   "cell_type": "code",
   "execution_count": 19,
   "metadata": {},
   "outputs": [
    {
     "data": {
      "text/html": [
       "<div>\n",
       "<style scoped>\n",
       "    .dataframe tbody tr th:only-of-type {\n",
       "        vertical-align: middle;\n",
       "    }\n",
       "\n",
       "    .dataframe tbody tr th {\n",
       "        vertical-align: top;\n",
       "    }\n",
       "\n",
       "    .dataframe thead th {\n",
       "        text-align: right;\n",
       "    }\n",
       "</style>\n",
       "<table border=\"1\" class=\"dataframe\">\n",
       "  <thead>\n",
       "    <tr style=\"text-align: right;\">\n",
       "      <th></th>\n",
       "      <th>2015</th>\n",
       "      <th>2016</th>\n",
       "    </tr>\n",
       "  </thead>\n",
       "  <tbody>\n",
       "    <tr>\n",
       "      <th>mean</th>\n",
       "      <td>4.085271</td>\n",
       "      <td>3.887435</td>\n",
       "    </tr>\n",
       "    <tr>\n",
       "      <th>median</th>\n",
       "      <td>4.000000</td>\n",
       "      <td>4.000000</td>\n",
       "    </tr>\n",
       "    <tr>\n",
       "      <th>mode</th>\n",
       "      <td>4.500000</td>\n",
       "      <td>4.000000</td>\n",
       "    </tr>\n",
       "  </tbody>\n",
       "</table>\n",
       "</div>"
      ],
      "text/plain": [
       "            2015      2016\n",
       "mean    4.085271  3.887435\n",
       "median  4.000000  4.000000\n",
       "mode    4.500000  4.000000"
      ]
     },
     "execution_count": 19,
     "metadata": {},
     "output_type": "execute_result"
    }
   ],
   "source": [
    "stats"
   ]
  },
  {
   "cell_type": "code",
   "execution_count": 29,
   "metadata": {},
   "outputs": [
    {
     "data": {
      "image/png": "[encoded data removed]",
      "text/plain": [
       "<Figure size 1152x576 with 1 Axes>"
      ]
     },
     "metadata": {},
     "output_type": "display_data"
    }
   ],
   "source": [
    "# generate a bar plot comparing the summary statistics\n",
    "plt.style.use('fivethirtyeight')\n",
    "purple = (85/255, 37/255, 130/255)\n",
    "gold = (253/255, 185/255, 39/255)\n",
    "\n",
    "stats['2015'].plot.bar(color=purple, align='center', \n",
    "                       label='2015', width=0.25)\n",
    "stats['2016'].plot.bar(color=gold, align='edge',\n",
    "                       label='2016', width=0.25,\n",
    "                       rot=0, figsize=(16, 8))\n",
    "\n",
    "plt.title('Comparing Summary Statistics\\n(2015 vs 2016)',\n",
    "          fontsize=24, y=1.07)\n",
    "plt.xticks(fontsize=16)\n",
    "plt.ylim(0, 5.5)\n",
    "plt.yticks(np.arange(0, 5.1, 0.5))\n",
    "plt.ylabel('Stars')\n",
    "plt.legend(fontsize=16, loc='upper center')\n",
    "plt.show()"
   ]
  },
  {
   "cell_type": "markdown",
   "metadata": {},
   "source": [
    "3 takeaways from the grouped bar plot:\n",
    "* The rating mean decreased slightly\n",
    "* The rating median stayed the same\n",
    "* The rating mode (most frequent) decreased by half a star\n",
    "\n",
    "By comparing this with the kernel density plot that we produce earlier, we can confirm that on average, popular movies released in 2016 had slightly lower ratings than popular movies released in 2015.\n",
    "\n",
    "## Conclusion\n",
    "Our analysis has showed that there is a slight difference between Fandango's ratings for popular movies before Hickey's analysis and after his analysis. More specifically, we found that after Hickey's analysis, popular movies on Fandango were rated lower than before. \n",
    "\n",
    "While we can't be 100% sure on what caused the change in movie ratings, the data supports the idea that it was caused by Fandango fixing the biased rating system after Hickey's analysis."
   ]
  }
 ],
 "metadata": {
  "kernelspec": {
   "display_name": "Python 3",
   "language": "python",
   "name": "python3"
  },
  "language_info": {
   "codemirror_mode": {
    "name": "ipython",
    "version": 3
   },
   "file_extension": ".py",
   "mimetype": "text/x-python",
   "name": "python",
   "nbconvert_exporter": "python",
   "pygments_lexer": "ipython3",
   "version": "3.7.1"
  }
 },
 "nbformat": 4,
 "nbformat_minor": 2
}
